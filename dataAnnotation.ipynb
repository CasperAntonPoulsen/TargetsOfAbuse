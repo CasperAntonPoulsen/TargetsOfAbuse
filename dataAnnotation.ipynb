{
 "cells": [
  {
   "cell_type": "code",
   "execution_count": 9,
   "metadata": {},
   "outputs": [],
   "source": [
    "import requests"
   ]
  },
  {
   "cell_type": "code",
   "execution_count": 37,
   "metadata": {},
   "outputs": [],
   "source": [
    "class DBSpotlight:\n",
    "    def __init__(self, url, port):\n",
    "        self.url = url + \":\" + port + \"/rest/\"\n",
    "\n",
    "    def annotate(self, text, confidence):\n",
    "\n",
    "        r = requests.get(self.url+\"annotate\",\n",
    "                         params={\n",
    "                            \"text\":text,\n",
    "                            \"confidence\":confidence\n",
    "                         },\n",
    "                         headers={\n",
    "                            \"Accept\":\"application/json\"\n",
    "                         }\n",
    "        )\n",
    "        \n",
    "        return r.text\n",
    "\n",
    "    def candidate(self, text, confidence):\n",
    "\n",
    "        r = requests.get(self.url+\"candidate\",\n",
    "                         params={\n",
    "                            \"text\":text,\n",
    "                            \"confidence\":confidence\n",
    "                         },\n",
    "                         headers={\n",
    "                            \"Accept\":\"application/json\"\n",
    "                         }\n",
    "        )\n",
    "        \n",
    "        return r.text\n",
    "\n",
    "    def spot(self, text, confidence):\n",
    "\n",
    "        r = requests.get(self.url+\"spot\",\n",
    "                         params={\n",
    "                            \"text\":text,\n",
    "                            \"confidence\":confidence\n",
    "                         },\n",
    "                         headers={\n",
    "                            \"Accept\":\"application/json\"\n",
    "                         }\n",
    "        )\n",
    "        \n",
    "        return r.text"
   ]
  },
  {
   "cell_type": "code",
   "execution_count": 36,
   "metadata": {},
   "outputs": [
    {
     "data": {
      "text/plain": [
       "'{\"@text\":\"Lausanne er en by i den fransktalende del af Schweiz ved bredden af Genevesøen.\",\"@confidence\":\"0.5\",\"@support\":\"0\",\"@types\":\"\",\"@sparql\":\"\",\"@policy\":\"whitelist\",\"Resources\":[{\"@URI\":\"http://da.dbpedia.org/resource/Lausanne\",\"@support\":\"228\",\"@types\":\"\",\"@surfaceForm\":\"Lausanne\",\"@offset\":\"0\",\"@similarityScore\":\"0.9989890003987288\",\"@percentageOfSecondRank\":\"0.0010118640386721249\"},{\"@URI\":\"http://da.dbpedia.org/resource/Schweiz\",\"@support\":\"5212\",\"@types\":\"\",\"@surfaceForm\":\"Schweiz\",\"@offset\":\"45\",\"@similarityScore\":\"0.9999999458061112\",\"@percentageOfSecondRank\":\"5.14623375302411E-8\"},{\"@URI\":\"http://da.dbpedia.org/resource/Genevesøen\",\"@support\":\"62\",\"@types\":\"\",\"@surfaceForm\":\"Genevesøen\",\"@offset\":\"68\",\"@similarityScore\":\"0.9841269841269704\",\"@percentageOfSecondRank\":\"0.0\"}]}'"
      ]
     },
     "execution_count": 36,
     "metadata": {},
     "output_type": "execute_result"
    }
   ],
   "source": [
    "dbspotlight = DBSpotlight(\"http://localhost\", \"2222\")\n",
    "dbspotlight.annotate('Lausanne er en by i den fransktalende del af Schweiz ved bredden af Genevesøen.', 0.5)"
   ]
  },
  {
   "cell_type": "code",
   "execution_count": 23,
   "metadata": {},
   "outputs": [],
   "source": [
    "import spacy"
   ]
  },
  {
   "cell_type": "code",
   "execution_count": 29,
   "metadata": {},
   "outputs": [],
   "source": [
    "class SpacyNER:\n",
    "    def __init__(self, model):\n",
    "        self.nlp = spacy.load(model)\n",
    "\n",
    "    def show_ents(self, doc):\n",
    "        if doc.ents:\n",
    "            for ent in doc.ents:\n",
    "                print(ent.text+' - ' +str(ent.start_char) +' - '+ str(ent.end_char) +' - '+ent.label_+ ' - '+str(spacy.explain(ent.label_))) \n",
    "        else: print('No named entities found.')\n"
   ]
  },
  {
   "cell_type": "code",
   "execution_count": 30,
   "metadata": {},
   "outputs": [],
   "source": [
    "ner = SpacyNER(\"da_core_news_sm\")\n",
    "doc = ner.nlp('Lausanne er en by i den fransktalende del af Schweiz ved bredden af Genevesøen.')\n",
    "ner.show_ents(doc)"
   ]
  }
 ],
 "metadata": {
  "interpreter": {
   "hash": "19bbe116319a3d197a3ddb38a16045fea2deda13e9c9b86a0bbeaa5509e6cc3c"
  },
  "kernelspec": {
   "display_name": "Python 3.8.5 ('base')",
   "language": "python",
   "name": "python3"
  },
  "language_info": {
   "codemirror_mode": {
    "name": "ipython",
    "version": 3
   },
   "file_extension": ".py",
   "mimetype": "text/x-python",
   "name": "python",
   "nbconvert_exporter": "python",
   "pygments_lexer": "ipython3",
   "version": "3.8.5"
  },
  "orig_nbformat": 4
 },
 "nbformat": 4,
 "nbformat_minor": 2
}
