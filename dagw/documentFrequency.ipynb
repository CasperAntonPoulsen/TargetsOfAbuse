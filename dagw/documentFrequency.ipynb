{
 "cells": [
  {
   "cell_type": "code",
   "execution_count": null,
   "metadata": {},
   "outputs": [],
   "source": [
    "import pandas as pd\n",
    "from os import listdir \n",
    "import spacy\n",
    "import numpy as np"
   ]
  },
  {
   "cell_type": "code",
   "execution_count": 11,
   "metadata": {},
   "outputs": [
    {
     "name": "stdout",
     "output_type": "stream",
     "text": [
      "Working with section: adl\n",
      "7/500 1.4000000000000001%\r"
     ]
    }
   ],
   "source": [
    "docFreqDict = {}\n",
    "\n",
    "nlp = spacy.load(\"da_core_news_sm\")\n",
    "\n",
    "\n",
    "\n",
    "for dir in listdir(\"sektioner\"):\n",
    "    if len(dir.split(\".\")) == 1:\n",
    "        print(\"Working with section: \"+ dir)\n",
    "\n",
    "        sectionCounter= 0\n",
    "        section = listdir(\"sektioner\\\\\" + dir)\n",
    "        sectionLength = len(section)\n",
    "\n",
    "        for docName in section:\n",
    "            sectionCounter += 1\n",
    "            print(str(sectionCounter) + \"/\" + str(sectionLength)+ \" \" + str(np.round((sectionCounter/sectionLength)*100))+ \"%\", end=\"\\r\")\n",
    "            if len(docName.split(\".\")) == 1 and docName != \"LICENSE\":\n",
    "\n",
    "                tokens = []\n",
    "\n",
    "\n",
    "                docPath = \"sektioner\\\\\" +dir+ \"\\\\\" + docName\n",
    "\n",
    "                with open(docPath, \"r\",encoding=\"utf-8\") as file:\n",
    "                    for line in file.readlines():\n",
    "                        strip_line = line.strip()\n",
    "\n",
    "                        doc = nlp(strip_line)\n",
    "                        for token in doc:\n",
    "                            tokens.append(token.text)\n",
    "\n",
    "                uniqueTokens = set(tokens)\n",
    "                for token in uniqueTokens:\n",
    "                    if token in docFreqDict.keys():\n",
    "                        docFreqDict[token] += 1\n",
    "                    else:\n",
    "                        docFreqDict[token] = 1\n"
   ]
  }
 ],
 "metadata": {
  "kernelspec": {
   "display_name": "Python 3.7.8 64-bit",
   "language": "python",
   "name": "python3"
  },
  "language_info": {
   "codemirror_mode": {
    "name": "ipython",
    "version": 3
   },
   "file_extension": ".py",
   "mimetype": "text/x-python",
   "name": "python",
   "nbconvert_exporter": "python",
   "pygments_lexer": "ipython3",
   "version": "3.7.8"
  },
  "orig_nbformat": 4,
  "vscode": {
   "interpreter": {
    "hash": "0a54084e6b208ee8d1ce3989ffc20924477a5f55f5a43e22e699a6741623861e"
   }
  }
 },
 "nbformat": 4,
 "nbformat_minor": 2
}
