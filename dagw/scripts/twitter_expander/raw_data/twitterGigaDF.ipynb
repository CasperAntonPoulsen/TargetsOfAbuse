{
 "cells": [
  {
   "cell_type": "code",
   "execution_count": null,
   "metadata": {},
   "outputs": [],
   "source": []
  },
  {
   "cell_type": "code",
   "execution_count": null,
   "metadata": {},
   "outputs": [],
   "source": [
    "import spacy\n",
    "import json\n",
    "\n",
    "\n",
    "nlp = spacy.load(\"da_core_news_sm\")\n",
    "docFreqDict = {}\n",
    "\n",
    "with open(\"datwitter_0\", \"r\", encoding=\"utf-8\") as file:\n",
    "    for line in file.readlines():\n",
    "\n",
    "        strip_line = line.strip()\n",
    "\n",
    "        tokens = []\n",
    "\n",
    "        doc = nlp(strip_line)\n",
    "\n",
    "        for token in doc:\n",
    "            tokens.append(token.text)\n",
    "\n",
    "        uniqueTokens = set(tokens)\n",
    "\n",
    "        for token in uniqueTokens:\n",
    "\n",
    "            if token in docFreqDict.keys():\n",
    "                docFreqDict[token] += 1\n",
    "\n",
    "            else:\n",
    "                docFreqDict[token] = 1\n",
    "\n",
    "with open(\"twitterCorpusDocFreq.json\", \"w+\", encoding=\"utf-8\")  as file:\n",
    "    json.dump(docFreqDict, file)\n",
    "\n",
    "    \n",
    "\n",
    "        "
   ]
  }
 ],
 "metadata": {
  "language_info": {
   "name": "python"
  },
  "orig_nbformat": 4
 },
 "nbformat": 4,
 "nbformat_minor": 2
}
